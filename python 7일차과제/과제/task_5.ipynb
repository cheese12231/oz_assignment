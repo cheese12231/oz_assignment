{
 "cells": [
  {
   "cell_type": "markdown",
   "metadata": {},
   "source": [
    "datetime 모듈을 사용하여 현재 날짜와 시간을 출력하는 프로그램을 작성하세요. \n",
    "\n",
    "또한, 사용자로부터 태어난 년도를 입력받아 현재 나이를 계산하여 출력하세요."
   ]
  },
  {
   "cell_type": "code",
   "execution_count": null,
   "metadata": {},
   "outputs": [],
   "source": [
    "import datetime\n",
    "now = datetime.datetime.now()\n",
    "print(\"📅 현재 날짜와 시간:\", now.strftime(\"%Y-%m-%d %H:%M:%S\"))\n",
    "try:\n",
    "    birth_year = int(input(\"태어난 년도를 입력하세요 (예: 2000): \"))\n",
    "    current_year = now.year\n",
    "    age = current_year - birth_year + 1\n",
    "    print(f\"당신의 나이는 {age}세입니다.\")\n",
    "except ValueError:\n",
    "    print(\"숫자로 된 올바른 연도를 입력해주세요.\")\n"
   ]
  }
 ],
 "metadata": {
  "kernelspec": {
   "display_name": "Python 3",
   "language": "python",
   "name": "python3"
  },
  "language_info": {
   "codemirror_mode": {
    "name": "ipython",
    "version": 3
   },
   "file_extension": ".py",
   "mimetype": "text/x-python",
   "name": "python",
   "nbconvert_exporter": "python",
   "pygments_lexer": "ipython3",
   "version": "3.13.3"
  }
 },
 "nbformat": 4,
 "nbformat_minor": 2
}
