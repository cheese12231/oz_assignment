{
 "cells": [
  {
   "cell_type": "markdown",
   "metadata": {},
   "source": [
    "여러분이 자주 사용하는 수학적 연산<br>\n",
    "(예: 삼각형 넓이, 원의 넓이, 직육면체의 넓이)을 수행하는 함수들을 포함하는 mymath.py라는 이름의 모듈을 만드세요. \n",
    "\n",
    "이 모듈을 사용하여 작성된 함수들을 실제로 임포트하고 사용하는 간단한 프로그램을 작성하세요."
   ]
  },
  {
   "cell_type": "markdown",
   "metadata": {},
   "source": [
    "import mymath  # 같은 폴더에 있어야 함\n",
    "\n",
    "# 삼각형 넓이 계산\n",
    "base = 10\n",
    "height = 5\n",
    "print(f\"삼각형 넓이: {mymath.triangle_area(base, height)}\")\n",
    "\n",
    "# 원의 넓이 계산\n",
    "radius = 7\n",
    "print(f\"원의 넓이: {mymath.circle_area(radius):.2f}\")\n",
    "\n",
    "# 직육면체 겉넓이 계산\n",
    "length = 4\n",
    "width = 3\n",
    "height = 2\n",
    "print(f\"직육면체 겉넓이: {mymath.rectangular_prism_surface_area(length, width, height)}\")"
   ]
  }
 ],
 "metadata": {
  "language_info": {
   "name": "python"
  }
 },
 "nbformat": 4,
 "nbformat_minor": 2
}
